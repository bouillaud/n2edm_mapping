{
 "cells": [
  {
   "cell_type": "code",
   "execution_count": 1,
   "metadata": {},
   "outputs": [],
   "source": [
    "import numpy as np\n",
    "import matplotlib.pyplot as plt\n",
    "\n",
    "from map_tools import *"
   ]
  },
  {
   "cell_type": "code",
   "execution_count": 2,
   "metadata": {},
   "outputs": [],
   "source": [
    "lmax = 7\n",
    "\n",
    "Gdo = np.load('../data/spectrum_run1926_lmax7.npy', allow_pickle=True)\n",
    "Gdo = Gdo.item()['z']"
   ]
  },
  {
   "cell_type": "code",
   "execution_count": 3,
   "metadata": {},
   "outputs": [
    {
     "data": {
      "text/plain": [
       "(93.0, -307.0)"
      ]
     },
     "execution_count": 3,
     "metadata": {},
     "output_type": "execute_result"
    }
   ],
   "source": [
    "oldb_20 = Geometry.volAvg(0, 0, 2) - 0.5*(Geometry.volAvg(1, 0, 0) + Geometry.volAvg(0, 1, 0))\n",
    "\n",
    "oldb_20, Geometry.bz(2, 0)"
   ]
  },
  {
   "cell_type": "code",
   "execution_count": 4,
   "metadata": {},
   "outputs": [
    {
     "data": {
      "text/plain": [
       "(151585.53333333333, 94249.0)"
      ]
     },
     "execution_count": 4,
     "metadata": {},
     "output_type": "execute_result"
    }
   ],
   "source": [
    "Geometry.bz2(2, 0), Geometry.bz(2, 0)**2"
   ]
  },
  {
   "cell_type": "code",
   "execution_count": 5,
   "metadata": {},
   "outputs": [
    {
     "data": {
      "text/plain": [
       "(239.45048200689286, 378.0694821502171)"
      ]
     },
     "execution_count": 5,
     "metadata": {},
     "output_type": "execute_result"
    }
   ],
   "source": [
    "Geometry.nonUniformity(2, 0)**0.5, (Geometry.bz2(2, 0) - oldb_20**2)**0.5"
   ]
  },
  {
   "cell_type": "code",
   "execution_count": 6,
   "metadata": {},
   "outputs": [],
   "source": [
    "def sigmaBz(G, L=2):\n",
    "    \"\"\"\n",
    "    takes 2D array of Glm.\n",
    "    \"\"\"\n",
    "    sigma = np.zeros((L+1, 2*lmax+3))\n",
    "    for l in range(L+1):\n",
    "        for m0 in range(2*lmax+3):\n",
    "            m = m0-lmax-1\n",
    "            sigma[l][m0] = abs(G[l][m0]) * Geometry.nonUniformity(l, m)**0.5\n",
    "    return sigma\n",
    "            \n",
    "def sigmaBz_sum(G, L=2):\n",
    "    \"\"\"\n",
    "    takes 2D array of Glm.\n",
    "    \"\"\"\n",
    "    sigma = sigmaBz(G, L=L)\n",
    "    S = np.sum( [np.sum([abs(sigma[l][m]) for l in range(L+1)])**2 for m in range(2*lmax+3)] )\n",
    "    return S**0.5"
   ]
  },
  {
   "cell_type": "code",
   "execution_count": 7,
   "metadata": {},
   "outputs": [
    {
     "data": {
      "text/plain": [
       "array([[ 0.        ,  0.        ,  0.        ,  0.        ,  0.        ,\n",
       "         0.        ,  0.        ,  0.        ,  0.        ,  0.        ,\n",
       "         0.        ,  0.        ,  0.        ,  0.        ,  0.        ,\n",
       "         0.        ,  0.        ],\n",
       "       [ 0.        ,  0.        ,  0.        ,  0.        ,  0.        ,\n",
       "         0.        ,  0.        , 11.34294099,  2.04313876,  4.64602641,\n",
       "         0.        ,  0.        ,  0.        ,  0.        ,  0.        ,\n",
       "         0.        ,  0.        ],\n",
       "       [ 0.        ,  0.        ,  0.        ,  0.        ,  0.        ,\n",
       "         0.        ,  2.36458214,  5.53747799, 19.65644921,  3.04431551,\n",
       "        27.24942303,  0.        ,  0.        ,  0.        ,  0.        ,\n",
       "         0.        ,  0.        ]])"
      ]
     },
     "execution_count": 7,
     "metadata": {},
     "output_type": "execute_result"
    }
   ],
   "source": [
    "sigma = sigmaBz(Gdo)\n",
    "sigma"
   ]
  },
  {
   "cell_type": "code",
   "execution_count": 8,
   "metadata": {},
   "outputs": [
    {
     "data": {
      "text/plain": [
       "39.53586126957749"
      ]
     },
     "execution_count": 8,
     "metadata": {},
     "output_type": "execute_result"
    }
   ],
   "source": [
    "sigmaBz_sum(Gdo)"
   ]
  },
  {
   "cell_type": "code",
   "execution_count": 9,
   "metadata": {},
   "outputs": [
    {
     "data": {
      "text/plain": [
       "33.5992120616708"
      ]
     },
     "execution_count": 9,
     "metadata": {},
     "output_type": "execute_result"
    }
   ],
   "source": [
    "(Gdo[2][lmax+1]**2*Geometry.nonUniformity(2, 0) + Gdo[2][lmax+1+2]**2*Geometry.nonUniformity(2, 2))**0.5"
   ]
  },
  {
   "cell_type": "code",
   "execution_count": 10,
   "metadata": {},
   "outputs": [],
   "source": [
    "chamber = 'single'\n",
    "R = 23.5\n",
    "\n",
    "bz_20 = Geometry.volAvg(0, 0, 2, R=R, chamber=chamber) - 0.5*(Geometry.volAvg(2, 0, 0, R=R, chamber=chamber)+Geometry.volAvg(0, 2, 0, R=R, chamber=chamber))\n",
    "bz_22 = Geometry.volAvg(2, 0, 0, R=R, chamber=chamber) - Geometry.volAvg(0, 2, 0, R=R, chamber=chamber)\n",
    "\n",
    "bz2_20 = Geometry.volAvg(0, 0, 4, R=R, chamber=chamber) - 2*Geometry.volAvg(2, 0, 2, R=R, chamber=chamber) + 0.5*(Geometry.volAvg(4, 0, 0, R=R, chamber=chamber) + Geometry.volAvg(2, 2, 0, R=R, chamber=chamber))\n",
    "bz2_22 = 2*Geometry.volAvg(4, 0, 0, R=R, chamber=chamber) - 2*Geometry.volAvg(2, 2, 0, R=R, chamber=chamber)\n"
   ]
  },
  {
   "cell_type": "code",
   "execution_count": 11,
   "metadata": {},
   "outputs": [
    {
     "data": {
      "text/plain": [
       "11.491406032489897"
      ]
     },
     "execution_count": 11,
     "metadata": {},
     "output_type": "execute_result"
    }
   ],
   "source": [
    "### n2edm non-optimized\n",
    "(Gdo[2][lmax+1]**2*(bz2_20 - bz_20**2) + Gdo[2][lmax+1+2]**2*(bz2_22 - bz_22**2))**0.5"
   ]
  },
  {
   "cell_type": "code",
   "execution_count": 12,
   "metadata": {},
   "outputs": [
    {
     "data": {
      "text/plain": [
       "855.3949078861178"
      ]
     },
     "execution_count": 12,
     "metadata": {},
     "output_type": "execute_result"
    }
   ],
   "source": [
    "### nedm non-optimized\n",
    "(8**2*(bz2_20 - bz_20**2) + 2.5**2*(bz2_22 - bz_22**2))**0.5"
   ]
  },
  {
   "cell_type": "code",
   "execution_count": 13,
   "metadata": {
    "scrolled": true
   },
   "outputs": [
    {
     "data": {
      "text/plain": [
       "276.9581477859065"
      ]
     },
     "execution_count": 13,
     "metadata": {},
     "output_type": "execute_result"
    }
   ],
   "source": [
    "### nedm optimized\n",
    "(2**2*(bz2_20 - bz_20**2) + 1**2*(bz2_22 - bz_22**2))**0.5"
   ]
  },
  {
   "cell_type": "code",
   "execution_count": 14,
   "metadata": {},
   "outputs": [
    {
     "data": {
      "text/plain": [
       "42.666666666666664"
      ]
     },
     "execution_count": 14,
     "metadata": {},
     "output_type": "execute_result"
    }
   ],
   "source": [
    "128/3"
   ]
  },
  {
   "cell_type": "code",
   "execution_count": null,
   "metadata": {},
   "outputs": [],
   "source": []
  }
 ],
 "metadata": {
  "kernelspec": {
   "display_name": "Python 3",
   "language": "python",
   "name": "python3"
  },
  "language_info": {
   "codemirror_mode": {
    "name": "ipython",
    "version": 3
   },
   "file_extension": ".py",
   "mimetype": "text/x-python",
   "name": "python",
   "nbconvert_exporter": "python",
   "pygments_lexer": "ipython3",
   "version": "3.7.2"
  }
 },
 "nbformat": 4,
 "nbformat_minor": 2
}
